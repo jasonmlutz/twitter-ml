{
 "cells": [
  {
   "cell_type": "markdown",
   "metadata": {},
   "source": [
    "Goal: Build a machine-learning algorthim that can predict whether a tweet is more likely to interact with (i.e. retweet at) @BarackObama or @realDonaldTrump, based on the text of the tweet."
   ]
  },
  {
   "cell_type": "code",
   "execution_count": null,
   "metadata": {},
   "outputs": [],
   "source": [
    "#! pip install --user emoji"
   ]
  },
  {
   "cell_type": "code",
   "execution_count": 36,
   "metadata": {},
   "outputs": [],
   "source": [
    "import json\n",
    "import emoji\n",
    "from random import randint\n",
    "import oauth2 as oauth\n",
    "import pandas as pd\n",
    "import numpy as np\n",
    "from credentials import *"
   ]
  },
  {
   "cell_type": "code",
   "execution_count": 27,
   "metadata": {},
   "outputs": [],
   "source": [
    "def oauth_twitter_search(query, consumer_key=CONSUMER_KEY, consumer_secret=CONSUMER_SECRET):\n",
    "    \"\"\" Search Twitter ...\n",
    "    looks like Tweets with \"truncated\": true could pose a problem\n",
    "    \"\"\"\n",
    "    search_endpoint = \"https://api.twitter.com/1.1/search/tweets.json\"\n",
    "    compiled_search_endpoint = \"{}?q={}+-filter:retweets&count=100&result_type=recent&lang=en&tweet_mode=extended\".format(search_endpoint, query)\n",
    "    consumer = oauth.Consumer(key=CONSUMER_KEY, secret=CONSUMER_SECRET)\n",
    "    client = oauth.Client(consumer)\n",
    "    response, data = client.request(compiled_search_endpoint)\n",
    "    tweets = json.loads(data)\n",
    "    return tweets"
   ]
  },
  {
   "cell_type": "code",
   "execution_count": 38,
   "metadata": {},
   "outputs": [
    {
     "name": "stdout",
     "output_type": "stream",
     "text": [
      "94 100\n"
     ]
    }
   ],
   "source": [
    "# fetch the tweets\n",
    "tweets_44 = oauth_twitter_search(\"@BarackObama\")['statuses']\n",
    "tweets_45 = oauth_twitter_search(\"@realDonaldTrump\")['statuses']\n",
    "print(len(tweets_44), len(tweets_45))"
   ]
  },
  {
   "cell_type": "code",
   "execution_count": 39,
   "metadata": {},
   "outputs": [
    {
     "data": {
      "text/plain": [
       "dict_keys(['created_at', 'id', 'id_str', 'full_text', 'truncated', 'display_text_range', 'entities', 'metadata', 'source', 'in_reply_to_status_id', 'in_reply_to_status_id_str', 'in_reply_to_user_id', 'in_reply_to_user_id_str', 'in_reply_to_screen_name', 'user', 'geo', 'coordinates', 'place', 'contributors', 'is_quote_status', 'retweet_count', 'favorite_count', 'favorited', 'retweeted', 'lang'])"
      ]
     },
     "execution_count": 39,
     "metadata": {},
     "output_type": "execute_result"
    }
   ],
   "source": [
    "tweets_44[0].keys()"
   ]
  },
  {
   "cell_type": "code",
   "execution_count": 40,
   "metadata": {},
   "outputs": [
    {
     "name": "stdout",
     "output_type": "stream",
     "text": [
      "1117206445756428295 @joncoopertweets @BarackObama @realDonaldTrump 1/2 of the 59 millions are Russian bots, 1/4 are trolls, 1/8 are actually accounts belonging to Trumps followers dogs. Its true\n"
     ]
    }
   ],
   "source": [
    "sample_44 = tweets_44[0]\n",
    "print(sample_44['id_str'], sample_44['full_text'])"
   ]
  },
  {
   "cell_type": "code",
   "execution_count": 42,
   "metadata": {},
   "outputs": [
    {
     "data": {
      "text/plain": [
       "True"
      ]
     },
     "execution_count": 42,
     "metadata": {},
     "output_type": "execute_result"
    }
   ],
   "source": [
    "'@barackobama' in sample_44['full_text'].lower()"
   ]
  },
  {
   "cell_type": "code",
   "execution_count": 46,
   "metadata": {},
   "outputs": [],
   "source": [
    "# prune each fetched tweet set\n",
    "pruned_tweets_44 = []\n",
    "for tweet in tweets_44:\n",
    "    d = {}\n",
    "    d['at_45'] = '@barackobama' in tweet['full_text'].lower()\n",
    "    d['at_55'] = '@realdonaldtrump' in tweet['full_text'].lower()\n",
    "    d['id_str'] = tweet['id_str']\n",
    "    d['full_text'] = tweet['full_text']\n",
    "    d['pruned_text'] = tweet['full_text'].lower().replace('@barackobama', '').replace('@realdonaldtrump', '')\n",
    "    pruned_tweets_44.append(d)"
   ]
  },
  {
   "cell_type": "code",
   "execution_count": 47,
   "metadata": {},
   "outputs": [
    {
     "data": {
      "text/plain": [
       "{'at_45': True,\n",
       " 'at_55': True,\n",
       " 'id_str': '1117206445756428295',\n",
       " 'full_text': '@joncoopertweets @BarackObama @realDonaldTrump 1/2 of the 59 millions are Russian bots, 1/4 are trolls, 1/8 are actually accounts belonging to Trumps followers dogs. Its true',\n",
       " 'pruned_text': '@joncoopertweets   1/2 of the 59 millions are russian bots, 1/4 are trolls, 1/8 are actually accounts belonging to trumps followers dogs. its true'}"
      ]
     },
     "execution_count": 47,
     "metadata": {},
     "output_type": "execute_result"
    }
   ],
   "source": [
    "pruned_tweets_44[0]"
   ]
  },
  {
   "cell_type": "code",
   "execution_count": null,
   "metadata": {},
   "outputs": [],
   "source": [
    "\n",
    "column_names = ['at_44', 'at_45' 'tweet_id', 'tweet_text']"
   ]
  },
  {
   "cell_type": "code",
   "execution_count": 22,
   "metadata": {},
   "outputs": [
    {
     "name": "stdout",
     "output_type": "stream",
     "text": [
      "@AnarqDPlantao @rolealeatorio @NASA Meodeos\n"
     ]
    }
   ],
   "source": [
    "print(emoji.demojize(sample_tweet_at_nasa['full_text']))"
   ]
  },
  {
   "cell_type": "code",
   "execution_count": 18,
   "metadata": {},
   "outputs": [
    {
     "data": {
      "text/plain": [
       "dict_keys(['created_at', 'id', 'id_str', 'text', 'truncated', 'entities', 'metadata', 'source', 'in_reply_to_status_id', 'in_reply_to_status_id_str', 'in_reply_to_user_id', 'in_reply_to_user_id_str', 'in_reply_to_screen_name', 'user', 'geo', 'coordinates', 'place', 'contributors', 'retweeted_status', 'is_quote_status', 'retweet_count', 'favorite_count', 'favorited', 'retweeted', 'lang'])"
      ]
     },
     "execution_count": 18,
     "metadata": {},
     "output_type": "execute_result"
    }
   ],
   "source": [
    "sample_nasa_tweet.keys()"
   ]
  },
  {
   "cell_type": "code",
   "execution_count": 22,
   "metadata": {},
   "outputs": [
    {
     "data": {
      "text/plain": [
       "255"
      ]
     },
     "execution_count": 22,
     "metadata": {},
     "output_type": "execute_result"
    }
   ],
   "source": [
    "sample_nasa_tweet['retweet_count']"
   ]
  },
  {
   "cell_type": "code",
   "execution_count": 24,
   "metadata": {},
   "outputs": [
    {
     "data": {
      "text/plain": [
       "False"
      ]
     },
     "execution_count": 24,
     "metadata": {},
     "output_type": "execute_result"
    }
   ],
   "source": [
    "sample_nasa_tweet['truncated']"
   ]
  },
  {
   "cell_type": "code",
   "execution_count": 25,
   "metadata": {},
   "outputs": [
    {
     "name": "stdout",
     "output_type": "stream",
     "text": [
      "RT @NASA: When we talk about the enormity of the cosmos 💫, it’s easy to toss out big numbers – but far more difficult to wrap our minds aro…\n"
     ]
    }
   ],
   "source": [
    "print(sample_nasa_text)"
   ]
  },
  {
   "cell_type": "code",
   "execution_count": 35,
   "metadata": {},
   "outputs": [
    {
     "name": "stdout",
     "output_type": "stream",
     "text": [
      "created_at :: Sat Apr 13 21:12:30 +0000 2019\n",
      "\n",
      "id :: 1117173741690159105\n",
      "\n",
      "id_str :: 1117173741690159105\n",
      "\n",
      "text :: RT @NASA: When we talk about the enormity of the cosmos 💫, it’s easy to toss out big numbers – but far more difficult to wrap our minds aro…\n",
      "\n",
      "truncated :: False\n",
      "\n",
      "entities :: {'hashtags': [], 'symbols': [], 'user_mentions': [{'screen_name': 'NASA', 'name': 'NASA', 'id': 11348282, 'id_str': '11348282', 'indices': [3, 8]}], 'urls': []}\n",
      "\n",
      "metadata :: {'iso_language_code': 'en', 'result_type': 'recent'}\n",
      "\n",
      "source :: <a href=\"http://twitter.com/download/iphone\" rel=\"nofollow\">Twitter for iPhone</a>\n",
      "\n",
      "in_reply_to_status_id :: None\n",
      "\n",
      "in_reply_to_status_id_str :: None\n",
      "\n",
      "in_reply_to_user_id :: None\n",
      "\n",
      "in_reply_to_user_id_str :: None\n",
      "\n",
      "in_reply_to_screen_name :: None\n",
      "\n",
      "user :: {'id': 825450498719379457, 'id_str': '825450498719379457', 'name': 'The Queen 👑', 'screen_name': 'Rahma_ASSaSa', 'location': '', 'description': 'ألا بذكر الله تطمئن القلوب 💖👐', 'url': None, 'entities': {'description': {'urls': []}}, 'protected': False, 'followers_count': 310, 'friends_count': 582, 'listed_count': 0, 'created_at': 'Sat Jan 28 21:08:29 +0000 2017', 'favourites_count': 898, 'utc_offset': None, 'time_zone': None, 'geo_enabled': False, 'verified': False, 'statuses_count': 6849, 'lang': 'en', 'contributors_enabled': False, 'is_translator': False, 'is_translation_enabled': False, 'profile_background_color': 'F5F8FA', 'profile_background_image_url': None, 'profile_background_image_url_https': None, 'profile_background_tile': False, 'profile_image_url': 'http://pbs.twimg.com/profile_images/885723928676708352/4FKOkpfz_normal.jpg', 'profile_image_url_https': 'https://pbs.twimg.com/profile_images/885723928676708352/4FKOkpfz_normal.jpg', 'profile_banner_url': 'https://pbs.twimg.com/profile_banners/825450498719379457/1554576003', 'profile_link_color': '1DA1F2', 'profile_sidebar_border_color': 'C0DEED', 'profile_sidebar_fill_color': 'DDEEF6', 'profile_text_color': '333333', 'profile_use_background_image': True, 'has_extended_profile': True, 'default_profile': True, 'default_profile_image': False, 'following': None, 'follow_request_sent': None, 'notifications': None, 'translator_type': 'none'}\n",
      "\n",
      "geo :: None\n",
      "\n",
      "coordinates :: None\n",
      "\n",
      "place :: None\n",
      "\n",
      "contributors :: None\n",
      "\n",
      "retweeted_status :: {'created_at': 'Sat Apr 13 21:04:44 +0000 2019', 'id': 1117171787186548738, 'id_str': '1117171787186548738', 'text': 'When we talk about the enormity of the cosmos 💫, it’s easy to toss out big numbers – but far more difficult to wrap… https://t.co/MHgXxcvJ8Z', 'truncated': True, 'entities': {'hashtags': [], 'symbols': [], 'user_mentions': [], 'urls': [{'url': 'https://t.co/MHgXxcvJ8Z', 'expanded_url': 'https://twitter.com/i/web/status/1117171787186548738', 'display_url': 'twitter.com/i/web/status/1…', 'indices': [117, 140]}]}, 'metadata': {'iso_language_code': 'en', 'result_type': 'recent'}, 'source': '<a href=\"https://www.sprinklr.com\" rel=\"nofollow\">Sprinklr</a>', 'in_reply_to_status_id': None, 'in_reply_to_status_id_str': None, 'in_reply_to_user_id': None, 'in_reply_to_user_id_str': None, 'in_reply_to_screen_name': None, 'user': {'id': 11348282, 'id_str': '11348282', 'name': 'NASA', 'screen_name': 'NASA', 'location': '', 'description': 'Explore the universe and discover our home planet with @NASA. We usually post in EDT (UTC-4)', 'url': 'https://t.co/TcEE6NS8nD', 'entities': {'url': {'urls': [{'url': 'https://t.co/TcEE6NS8nD', 'expanded_url': 'http://www.nasa.gov', 'display_url': 'nasa.gov', 'indices': [0, 23]}]}, 'description': {'urls': []}}, 'protected': False, 'followers_count': 30798776, 'friends_count': 298, 'listed_count': 93758, 'created_at': 'Wed Dec 19 20:20:32 +0000 2007', 'favourites_count': 5409, 'utc_offset': None, 'time_zone': None, 'geo_enabled': False, 'verified': True, 'statuses_count': 55500, 'lang': 'en', 'contributors_enabled': False, 'is_translator': False, 'is_translation_enabled': False, 'profile_background_color': '000000', 'profile_background_image_url': 'http://abs.twimg.com/images/themes/theme1/bg.png', 'profile_background_image_url_https': 'https://abs.twimg.com/images/themes/theme1/bg.png', 'profile_background_tile': False, 'profile_image_url': 'http://pbs.twimg.com/profile_images/1091070803184177153/TI2qItoi_normal.jpg', 'profile_image_url_https': 'https://pbs.twimg.com/profile_images/1091070803184177153/TI2qItoi_normal.jpg', 'profile_banner_url': 'https://pbs.twimg.com/profile_banners/11348282/1554821237', 'profile_link_color': '205BA7', 'profile_sidebar_border_color': '000000', 'profile_sidebar_fill_color': 'F3F2F2', 'profile_text_color': '000000', 'profile_use_background_image': True, 'has_extended_profile': True, 'default_profile': False, 'default_profile_image': False, 'following': None, 'follow_request_sent': None, 'notifications': None, 'translator_type': 'regular'}, 'geo': None, 'coordinates': None, 'place': None, 'contributors': None, 'is_quote_status': False, 'retweet_count': 255, 'favorite_count': 734, 'favorited': False, 'retweeted': False, 'possibly_sensitive': False, 'lang': 'en'}\n",
      "\n",
      "is_quote_status :: False\n",
      "\n",
      "retweet_count :: 255\n",
      "\n",
      "favorite_count :: 0\n",
      "\n",
      "favorited :: False\n",
      "\n",
      "retweeted :: False\n",
      "\n",
      "lang :: en\n",
      "\n"
     ]
    }
   ],
   "source": [
    "for k, v in sample_nasa_tweet.items():\n",
    "    print(\"{} :: {}\\n\".format(k,v))"
   ]
  },
  {
   "cell_type": "code",
   "execution_count": null,
   "metadata": {},
   "outputs": [],
   "source": []
  }
 ],
 "metadata": {
  "kernelspec": {
   "display_name": "Python 3",
   "language": "python",
   "name": "python3"
  },
  "language_info": {
   "codemirror_mode": {
    "name": "ipython",
    "version": 3
   },
   "file_extension": ".py",
   "mimetype": "text/x-python",
   "name": "python",
   "nbconvert_exporter": "python",
   "pygments_lexer": "ipython3",
   "version": "3.7.1"
  }
 },
 "nbformat": 4,
 "nbformat_minor": 2
}
