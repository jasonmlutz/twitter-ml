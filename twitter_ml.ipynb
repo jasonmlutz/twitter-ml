{
 "cells": [
  {
   "cell_type": "markdown",
   "metadata": {},
   "source": [
    "Goal: Build a machine-learning algorthim that can predict whether a tweet is more likely to interact with (i.e. retweet at) @BarackObama or @realDonaldTrump, based on the text of the tweet."
   ]
  },
  {
   "cell_type": "code",
   "execution_count": 294,
   "metadata": {},
   "outputs": [],
   "source": [
    "#! pip install --user emoji"
   ]
  },
  {
   "cell_type": "code",
   "execution_count": 295,
   "metadata": {},
   "outputs": [],
   "source": [
    "import json\n",
    "import emoji\n",
    "from random import randint\n",
    "import oauth2 as oauth\n",
    "import pandas as pd\n",
    "import numpy as np\n",
    "from credentials import *"
   ]
  },
  {
   "cell_type": "code",
   "execution_count": 296,
   "metadata": {},
   "outputs": [],
   "source": [
    "def oauth_twitter_search(query, consumer_key=CONSUMER_KEY, consumer_secret=CONSUMER_SECRET):\n",
    "    \"\"\" Search Twitter ...\n",
    "    looks like Tweets with \"truncated\": true could pose a problem\n",
    "    \"\"\"\n",
    "    search_endpoint = \"https://api.twitter.com/1.1/search/tweets.json\"\n",
    "    compiled_search_endpoint = \"{}?q={}+-filter:retweets&count=100&result_type=recent&lang=en&tweet_mode=extended\".format(search_endpoint, query)\n",
    "    consumer = oauth.Consumer(key=CONSUMER_KEY, secret=CONSUMER_SECRET)\n",
    "    client = oauth.Client(consumer)\n",
    "    response, data = client.request(compiled_search_endpoint)\n",
    "    tweets = json.loads(data)\n",
    "    return tweets"
   ]
  },
  {
   "cell_type": "code",
   "execution_count": 297,
   "metadata": {},
   "outputs": [],
   "source": [
    "#load the csv of previously fetched tweets\n",
    "df = pd.read_csv('44v45tweets.csv', index_col = 0)\n",
    "#print(df.shape)\n",
    "#df.head()"
   ]
  },
  {
   "cell_type": "code",
   "execution_count": 298,
   "metadata": {},
   "outputs": [
    {
     "name": "stdout",
     "output_type": "stream",
     "text": [
      "78 93\n"
     ]
    }
   ],
   "source": [
    "# fetch the tweets\n",
    "tweets_44 = oauth_twitter_search(\"@BarackObama\")['statuses']\n",
    "tweets_45 = oauth_twitter_search(\"@realDonaldTrump\")['statuses']\n",
    "print(len(tweets_44), len(tweets_45))"
   ]
  },
  {
   "cell_type": "code",
   "execution_count": 299,
   "metadata": {},
   "outputs": [
    {
     "name": "stdout",
     "output_type": "stream",
     "text": [
      "171\n"
     ]
    }
   ],
   "source": [
    "#join the lists of statuses\n",
    "tweets_all = tweets_44 + tweets_45\n",
    "print(len(tweets_all))"
   ]
  },
  {
   "cell_type": "code",
   "execution_count": 300,
   "metadata": {},
   "outputs": [],
   "source": [
    "# prune each fetched tweet set\n",
    "pruned_tweets = []\n",
    "for tweet in tweets_all:\n",
    "    d = {}\n",
    "    d['at_44'] = '@barackobama' in tweet['full_text'].lower()\n",
    "    d['at_45'] = '@realdonaldtrump' in tweet['full_text'].lower()\n",
    "    d['id_str'] = tweet['id_str']\n",
    "    d['full_text'] = tweet['full_text']\n",
    "    d['pruned_text'] = tweet['full_text'].lower().replace('@barackobama', '').replace('@realdonaldtrump', '')\n",
    "    pruned_tweets.append(d)"
   ]
  },
  {
   "cell_type": "code",
   "execution_count": 301,
   "metadata": {},
   "outputs": [],
   "source": [
    "df_tweets = pd.DataFrame(pruned_tweets)\n",
    "df_tweets = df_tweets[['id_str', 'at_44', 'at_45', 'full_text', 'pruned_text']]\n",
    "#df_tweets.head()"
   ]
  },
  {
   "cell_type": "code",
   "execution_count": 302,
   "metadata": {},
   "outputs": [
    {
     "data": {
      "text/plain": [
       "(35, 5)"
      ]
     },
     "execution_count": 302,
     "metadata": {},
     "output_type": "execute_result"
    }
   ],
   "source": [
    "df_tweets.loc[(df_tweets['at_44'] == True) & (df_tweets['at_45'] == True)].shape"
   ]
  },
  {
   "cell_type": "code",
   "execution_count": 303,
   "metadata": {},
   "outputs": [],
   "source": [
    "#df.head()"
   ]
  },
  {
   "cell_type": "code",
   "execution_count": 304,
   "metadata": {},
   "outputs": [
    {
     "data": {
      "text/plain": [
       "(1662, 5)"
      ]
     },
     "execution_count": 304,
     "metadata": {},
     "output_type": "execute_result"
    }
   ],
   "source": [
    "compiled = pd.concat([df, df_tweets])\n",
    "compiled.shape"
   ]
  },
  {
   "cell_type": "code",
   "execution_count": 305,
   "metadata": {},
   "outputs": [
    {
     "data": {
      "text/plain": [
       "id_str         object\n",
       "at_44            bool\n",
       "at_45            bool\n",
       "full_text      object\n",
       "pruned_text    object\n",
       "dtype: object"
      ]
     },
     "execution_count": 305,
     "metadata": {},
     "output_type": "execute_result"
    }
   ],
   "source": [
    "compiled.dtypes"
   ]
  },
  {
   "cell_type": "code",
   "execution_count": 306,
   "metadata": {},
   "outputs": [
    {
     "data": {
      "text/plain": [
       "(202, 5)"
      ]
     },
     "execution_count": 306,
     "metadata": {},
     "output_type": "execute_result"
    }
   ],
   "source": [
    "compiled.loc[(compiled['at_44'] == True) & (compiled['at_45'] == True)].shape"
   ]
  },
  {
   "cell_type": "code",
   "execution_count": 307,
   "metadata": {},
   "outputs": [
    {
     "data": {
      "text/plain": [
       "(1599, 5)"
      ]
     },
     "execution_count": 307,
     "metadata": {},
     "output_type": "execute_result"
    }
   ],
   "source": [
    "compiled.drop_duplicates(subset = ['id_str']).shape"
   ]
  },
  {
   "cell_type": "code",
   "execution_count": 308,
   "metadata": {},
   "outputs": [],
   "source": [
    "compiled.drop_duplicates(subset = ['id_str'], inplace = True)"
   ]
  },
  {
   "cell_type": "code",
   "execution_count": 309,
   "metadata": {},
   "outputs": [],
   "source": [
    "compiled.to_csv('44v45tweets.csv')"
   ]
  },
  {
   "cell_type": "code",
   "execution_count": 310,
   "metadata": {},
   "outputs": [
    {
     "name": "stdout",
     "output_type": "stream",
     "text": [
      "108\n"
     ]
    }
   ],
   "source": [
    "print(compiled.shape[0] - df.shape[0])"
   ]
  },
  {
   "cell_type": "code",
   "execution_count": null,
   "metadata": {},
   "outputs": [],
   "source": []
  }
 ],
 "metadata": {
  "kernelspec": {
   "display_name": "Python 3",
   "language": "python",
   "name": "python3"
  },
  "language_info": {
   "codemirror_mode": {
    "name": "ipython",
    "version": 3
   },
   "file_extension": ".py",
   "mimetype": "text/x-python",
   "name": "python",
   "nbconvert_exporter": "python",
   "pygments_lexer": "ipython3",
   "version": "3.7.1"
  }
 },
 "nbformat": 4,
 "nbformat_minor": 2
}
