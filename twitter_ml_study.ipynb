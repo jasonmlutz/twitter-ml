{
 "cells": [
  {
   "cell_type": "markdown",
   "metadata": {},
   "source": [
    "### Goal:\n",
    "\n",
    "Using the previously created `44v45tweets.csv`, we'll train (at least) two ML models to predict whether the text of a tweet is directed at 44, 45, or both."
   ]
  },
  {
   "cell_type": "code",
   "execution_count": null,
   "metadata": {},
   "outputs": [],
   "source": [
    "#! pip install --user pandas_ml\n",
    "import pandas as pd\n",
    "import numpy as np\n",
    "from nltk.corpus import stopwords\n",
    "\n",
    "#import nltk\n",
    "#nltk.download('stopwords')"
   ]
  },
  {
   "cell_type": "code",
   "execution_count": null,
   "metadata": {},
   "outputs": [],
   "source": [
    "# call the stop words list; append the two twitter handles of interest\n",
    "stop_words = stopwords.words('english')\n",
    "stop_words += ['barackobama', 'realdonaldtrump']\n",
    "stop_words[-5:]"
   ]
  },
  {
   "cell_type": "code",
   "execution_count": null,
   "metadata": {},
   "outputs": [],
   "source": [
    "# load the fetched tweets\n",
    "df = pd.read_csv('44v45tweets.csv', index_col = 0)\n",
    "df.head()"
   ]
  },
  {
   "cell_type": "code",
   "execution_count": null,
   "metadata": {},
   "outputs": [],
   "source": [
    "# the columns at_44 and at_45 need to be combined to create a single\n",
    "# target column containing three possible values:\n",
    "# both, trump, and obama\n",
    "conditions = [\n",
    "    (df['at_44']) & (df['at_45']),\n",
    "    (df['at_44'] == False) & (df['at_45']),\n",
    "    (df['at_44']) & (df['at_45'] == False)\n",
    "]\n",
    "choices = ['both', 'trump', 'obama']\n",
    "# add this new series as a column named 'label'\n",
    "df['label'] = np.select(conditions, choices)\n",
    "df.head()"
   ]
  },
  {
   "cell_type": "code",
   "execution_count": null,
   "metadata": {},
   "outputs": [],
   "source": [
    "# further prune the data; we just need the full text and the label\n",
    "data = df[['label', 'full_text']].copy()\n",
    "data.head()"
   ]
  },
  {
   "cell_type": "code",
   "execution_count": null,
   "metadata": {},
   "outputs": [],
   "source": [
    "# preparing the text data\n",
    "from sklearn.feature_extraction.text import CountVectorizer\n",
    "# load the stop words and call the vectorizer\n",
    "vectorizer = CountVectorizer(stop_words = stop_words)\n",
    "# the column of full text, re-loaded as a list of strings\n",
    "corpus = data['full_text'].iloc[:].tolist()\n",
    "X = vectorizer.fit_transform(corpus)\n",
    "# let's see how many unique and 'interesting' words we fetched from the \n",
    "# corpus of tweets\n",
    "X.shape"
   ]
  },
  {
   "cell_type": "code",
   "execution_count": null,
   "metadata": {},
   "outputs": [],
   "source": [
    "# store and peek at the label data\n",
    "Y = data['label']\n",
    "Y.head()"
   ]
  },
  {
   "cell_type": "code",
   "execution_count": null,
   "metadata": {},
   "outputs": [],
   "source": [
    "# split the data into train and test sets\n",
    "from sklearn.model_selection import train_test_split\n",
    "xTrain, xTest, yTrain, yTest = train_test_split(X, Y, test_size = 0.2, random_state = 12)"
   ]
  },
  {
   "cell_type": "code",
   "execution_count": null,
   "metadata": {},
   "outputs": [],
   "source": [
    "# load a Naive Bayes classifuer\n",
    "from sklearn.naive_bayes import MultinomialNB\n",
    "clf = MultinomialNB().fit(xTrain, yTrain)"
   ]
  },
  {
   "cell_type": "code",
   "execution_count": null,
   "metadata": {},
   "outputs": [],
   "source": [
    "# make the predictions; test the predictions\n",
    "predicted = clf.predict(xTest)\n",
    "np.mean(predicted == yTest)"
   ]
  },
  {
   "cell_type": "code",
   "execution_count": null,
   "metadata": {},
   "outputs": [],
   "source": [
    "# let's visualize our model's effectiveness using the confusion matrix\n",
    "from pandas_ml import ConfusionMatrix\n",
    "import matplotlib.pyplot as plt\n",
    "\n",
    "cm = ConfusionMatrix(yTest, predicted)\n",
    "cm"
   ]
  },
  {
   "cell_type": "code",
   "execution_count": null,
   "metadata": {},
   "outputs": [],
   "source": [
    "# let's try using a linear SVM \n",
    "from sklearn.linear_model import SGDClassifier\n",
    "clf_svm = SGDClassifier().fit(xTrain, yTrain)\n",
    "predicted = clf_svm.predict(xTest)\n",
    "np.mean(predicted == yTest)"
   ]
  },
  {
   "cell_type": "code",
   "execution_count": null,
   "metadata": {},
   "outputs": [],
   "source": [
    "cm = ConfusionMatrix(yTest, predicted)\n",
    "cm"
   ]
  },
  {
   "cell_type": "code",
   "execution_count": null,
   "metadata": {},
   "outputs": [],
   "source": []
  }
 ],
 "metadata": {
  "kernelspec": {
   "display_name": "Python 3",
   "language": "python",
   "name": "python3"
  },
  "language_info": {
   "codemirror_mode": {
    "name": "ipython",
    "version": 3
   },
   "file_extension": ".py",
   "mimetype": "text/x-python",
   "name": "python",
   "nbconvert_exporter": "python",
   "pygments_lexer": "ipython3",
   "version": "3.7.1"
  }
 },
 "nbformat": 4,
 "nbformat_minor": 2
}
