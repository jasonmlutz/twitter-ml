{
 "cells": [
  {
   "cell_type": "markdown",
   "metadata": {},
   "source": [
    "### Goal:\n",
    "\n",
    "Using the previously created `44v45tweets.csv`, we'll train (at least) two ML models to predict whether the text of a tweet is directed at 44, 45, or both."
   ]
  },
  {
   "cell_type": "code",
   "execution_count": 1,
   "metadata": {},
   "outputs": [],
   "source": [
    "#! pip install --user pandas_ml\n",
    "import pandas as pd\n",
    "import numpy as np\n",
    "from nltk.corpus import stopwords\n",
    "\n",
    "#import nltk\n",
    "#nltk.download('stopwords')"
   ]
  },
  {
   "cell_type": "code",
   "execution_count": 2,
   "metadata": {},
   "outputs": [
    {
     "data": {
      "text/plain": [
       "[\"won't\", 'wouldn', \"wouldn't\", 'barackobama', 'realdonaldtrump']"
      ]
     },
     "execution_count": 2,
     "metadata": {},
     "output_type": "execute_result"
    }
   ],
   "source": [
    "stop_words = stopwords.words('english')\n",
    "stop_words += ['barackobama', 'realdonaldtrump']\n",
    "stop_words[-5:]"
   ]
  },
  {
   "cell_type": "code",
   "execution_count": 3,
   "metadata": {},
   "outputs": [
    {
     "data": {
      "text/html": [
       "<div>\n",
       "<style scoped>\n",
       "    .dataframe tbody tr th:only-of-type {\n",
       "        vertical-align: middle;\n",
       "    }\n",
       "\n",
       "    .dataframe tbody tr th {\n",
       "        vertical-align: top;\n",
       "    }\n",
       "\n",
       "    .dataframe thead th {\n",
       "        text-align: right;\n",
       "    }\n",
       "</style>\n",
       "<table border=\"1\" class=\"dataframe\">\n",
       "  <thead>\n",
       "    <tr style=\"text-align: right;\">\n",
       "      <th></th>\n",
       "      <th>id_str</th>\n",
       "      <th>at_44</th>\n",
       "      <th>at_45</th>\n",
       "      <th>full_text</th>\n",
       "      <th>pruned_text</th>\n",
       "    </tr>\n",
       "  </thead>\n",
       "  <tbody>\n",
       "    <tr>\n",
       "      <th>0</th>\n",
       "      <td>1117206445756428295</td>\n",
       "      <td>True</td>\n",
       "      <td>True</td>\n",
       "      <td>@joncoopertweets @BarackObama @realDonaldTrump...</td>\n",
       "      <td>@joncoopertweets   1/2 of the 59 millions are ...</td>\n",
       "    </tr>\n",
       "    <tr>\n",
       "      <th>1</th>\n",
       "      <td>1117206412101332993</td>\n",
       "      <td>True</td>\n",
       "      <td>False</td>\n",
       "      <td>@davidcicilline @BarackObama Hell, I miss ALL ...</td>\n",
       "      <td>@davidcicilline  hell, i miss all of them!</td>\n",
       "    </tr>\n",
       "    <tr>\n",
       "      <th>2</th>\n",
       "      <td>1117206404228624384</td>\n",
       "      <td>True</td>\n",
       "      <td>False</td>\n",
       "      <td>@SylviaKAlston @BarackObama I totally agree! #...</td>\n",
       "      <td>@sylviakalston  i totally agree! #44 “forever ...</td>\n",
       "    </tr>\n",
       "    <tr>\n",
       "      <th>3</th>\n",
       "      <td>1117206361471844358</td>\n",
       "      <td>True</td>\n",
       "      <td>True</td>\n",
       "      <td>@ballweg_matt @Elaine_Greek @EricVonHaden1 @Br...</td>\n",
       "      <td>@ballweg_matt @elaine_greek @ericvonhaden1 @br...</td>\n",
       "    </tr>\n",
       "    <tr>\n",
       "      <th>4</th>\n",
       "      <td>1117206361316708353</td>\n",
       "      <td>True</td>\n",
       "      <td>True</td>\n",
       "      <td>@joncoopertweets @BarackObama @realDonaldTrump...</td>\n",
       "      <td>@joncoopertweets   do we really need an explan...</td>\n",
       "    </tr>\n",
       "  </tbody>\n",
       "</table>\n",
       "</div>"
      ],
      "text/plain": [
       "                id_str  at_44  at_45  \\\n",
       "0  1117206445756428295   True   True   \n",
       "1  1117206412101332993   True  False   \n",
       "2  1117206404228624384   True  False   \n",
       "3  1117206361471844358   True   True   \n",
       "4  1117206361316708353   True   True   \n",
       "\n",
       "                                           full_text  \\\n",
       "0  @joncoopertweets @BarackObama @realDonaldTrump...   \n",
       "1  @davidcicilline @BarackObama Hell, I miss ALL ...   \n",
       "2  @SylviaKAlston @BarackObama I totally agree! #...   \n",
       "3  @ballweg_matt @Elaine_Greek @EricVonHaden1 @Br...   \n",
       "4  @joncoopertweets @BarackObama @realDonaldTrump...   \n",
       "\n",
       "                                         pruned_text  \n",
       "0  @joncoopertweets   1/2 of the 59 millions are ...  \n",
       "1         @davidcicilline  hell, i miss all of them!  \n",
       "2  @sylviakalston  i totally agree! #44 “forever ...  \n",
       "3  @ballweg_matt @elaine_greek @ericvonhaden1 @br...  \n",
       "4  @joncoopertweets   do we really need an explan...  "
      ]
     },
     "execution_count": 3,
     "metadata": {},
     "output_type": "execute_result"
    }
   ],
   "source": [
    "df = pd.read_csv('44v45tweets.csv', index_col = 0)\n",
    "df.head()"
   ]
  },
  {
   "cell_type": "code",
   "execution_count": 4,
   "metadata": {},
   "outputs": [
    {
     "data": {
      "text/html": [
       "<div>\n",
       "<style scoped>\n",
       "    .dataframe tbody tr th:only-of-type {\n",
       "        vertical-align: middle;\n",
       "    }\n",
       "\n",
       "    .dataframe tbody tr th {\n",
       "        vertical-align: top;\n",
       "    }\n",
       "\n",
       "    .dataframe thead th {\n",
       "        text-align: right;\n",
       "    }\n",
       "</style>\n",
       "<table border=\"1\" class=\"dataframe\">\n",
       "  <thead>\n",
       "    <tr style=\"text-align: right;\">\n",
       "      <th></th>\n",
       "      <th>id_str</th>\n",
       "      <th>at_44</th>\n",
       "      <th>at_45</th>\n",
       "      <th>full_text</th>\n",
       "      <th>pruned_text</th>\n",
       "      <th>label</th>\n",
       "    </tr>\n",
       "  </thead>\n",
       "  <tbody>\n",
       "    <tr>\n",
       "      <th>0</th>\n",
       "      <td>1117206445756428295</td>\n",
       "      <td>True</td>\n",
       "      <td>True</td>\n",
       "      <td>@joncoopertweets @BarackObama @realDonaldTrump...</td>\n",
       "      <td>@joncoopertweets   1/2 of the 59 millions are ...</td>\n",
       "      <td>both</td>\n",
       "    </tr>\n",
       "    <tr>\n",
       "      <th>1</th>\n",
       "      <td>1117206412101332993</td>\n",
       "      <td>True</td>\n",
       "      <td>False</td>\n",
       "      <td>@davidcicilline @BarackObama Hell, I miss ALL ...</td>\n",
       "      <td>@davidcicilline  hell, i miss all of them!</td>\n",
       "      <td>obama</td>\n",
       "    </tr>\n",
       "    <tr>\n",
       "      <th>2</th>\n",
       "      <td>1117206404228624384</td>\n",
       "      <td>True</td>\n",
       "      <td>False</td>\n",
       "      <td>@SylviaKAlston @BarackObama I totally agree! #...</td>\n",
       "      <td>@sylviakalston  i totally agree! #44 “forever ...</td>\n",
       "      <td>obama</td>\n",
       "    </tr>\n",
       "    <tr>\n",
       "      <th>3</th>\n",
       "      <td>1117206361471844358</td>\n",
       "      <td>True</td>\n",
       "      <td>True</td>\n",
       "      <td>@ballweg_matt @Elaine_Greek @EricVonHaden1 @Br...</td>\n",
       "      <td>@ballweg_matt @elaine_greek @ericvonhaden1 @br...</td>\n",
       "      <td>both</td>\n",
       "    </tr>\n",
       "    <tr>\n",
       "      <th>4</th>\n",
       "      <td>1117206361316708353</td>\n",
       "      <td>True</td>\n",
       "      <td>True</td>\n",
       "      <td>@joncoopertweets @BarackObama @realDonaldTrump...</td>\n",
       "      <td>@joncoopertweets   do we really need an explan...</td>\n",
       "      <td>both</td>\n",
       "    </tr>\n",
       "  </tbody>\n",
       "</table>\n",
       "</div>"
      ],
      "text/plain": [
       "                id_str  at_44  at_45  \\\n",
       "0  1117206445756428295   True   True   \n",
       "1  1117206412101332993   True  False   \n",
       "2  1117206404228624384   True  False   \n",
       "3  1117206361471844358   True   True   \n",
       "4  1117206361316708353   True   True   \n",
       "\n",
       "                                           full_text  \\\n",
       "0  @joncoopertweets @BarackObama @realDonaldTrump...   \n",
       "1  @davidcicilline @BarackObama Hell, I miss ALL ...   \n",
       "2  @SylviaKAlston @BarackObama I totally agree! #...   \n",
       "3  @ballweg_matt @Elaine_Greek @EricVonHaden1 @Br...   \n",
       "4  @joncoopertweets @BarackObama @realDonaldTrump...   \n",
       "\n",
       "                                         pruned_text  label  \n",
       "0  @joncoopertweets   1/2 of the 59 millions are ...   both  \n",
       "1         @davidcicilline  hell, i miss all of them!  obama  \n",
       "2  @sylviakalston  i totally agree! #44 “forever ...  obama  \n",
       "3  @ballweg_matt @elaine_greek @ericvonhaden1 @br...   both  \n",
       "4  @joncoopertweets   do we really need an explan...   both  "
      ]
     },
     "execution_count": 4,
     "metadata": {},
     "output_type": "execute_result"
    }
   ],
   "source": [
    "conditions = [\n",
    "    (df['at_44']) & (df['at_45']),\n",
    "    (df['at_44'] == False) & (df['at_45']),\n",
    "    (df['at_44']) & (df['at_45'] == False)\n",
    "]\n",
    "choices = ['both', 'trump', 'obama']\n",
    "df['label'] = np.select(conditions, choices)\n",
    "df.head()"
   ]
  },
  {
   "cell_type": "code",
   "execution_count": 5,
   "metadata": {},
   "outputs": [
    {
     "data": {
      "text/html": [
       "<div>\n",
       "<style scoped>\n",
       "    .dataframe tbody tr th:only-of-type {\n",
       "        vertical-align: middle;\n",
       "    }\n",
       "\n",
       "    .dataframe tbody tr th {\n",
       "        vertical-align: top;\n",
       "    }\n",
       "\n",
       "    .dataframe thead th {\n",
       "        text-align: right;\n",
       "    }\n",
       "</style>\n",
       "<table border=\"1\" class=\"dataframe\">\n",
       "  <thead>\n",
       "    <tr style=\"text-align: right;\">\n",
       "      <th></th>\n",
       "      <th>label</th>\n",
       "      <th>full_text</th>\n",
       "    </tr>\n",
       "  </thead>\n",
       "  <tbody>\n",
       "    <tr>\n",
       "      <th>0</th>\n",
       "      <td>both</td>\n",
       "      <td>@joncoopertweets @BarackObama @realDonaldTrump...</td>\n",
       "    </tr>\n",
       "    <tr>\n",
       "      <th>1</th>\n",
       "      <td>obama</td>\n",
       "      <td>@davidcicilline @BarackObama Hell, I miss ALL ...</td>\n",
       "    </tr>\n",
       "    <tr>\n",
       "      <th>2</th>\n",
       "      <td>obama</td>\n",
       "      <td>@SylviaKAlston @BarackObama I totally agree! #...</td>\n",
       "    </tr>\n",
       "    <tr>\n",
       "      <th>3</th>\n",
       "      <td>both</td>\n",
       "      <td>@ballweg_matt @Elaine_Greek @EricVonHaden1 @Br...</td>\n",
       "    </tr>\n",
       "    <tr>\n",
       "      <th>4</th>\n",
       "      <td>both</td>\n",
       "      <td>@joncoopertweets @BarackObama @realDonaldTrump...</td>\n",
       "    </tr>\n",
       "  </tbody>\n",
       "</table>\n",
       "</div>"
      ],
      "text/plain": [
       "   label                                          full_text\n",
       "0   both  @joncoopertweets @BarackObama @realDonaldTrump...\n",
       "1  obama  @davidcicilline @BarackObama Hell, I miss ALL ...\n",
       "2  obama  @SylviaKAlston @BarackObama I totally agree! #...\n",
       "3   both  @ballweg_matt @Elaine_Greek @EricVonHaden1 @Br...\n",
       "4   both  @joncoopertweets @BarackObama @realDonaldTrump..."
      ]
     },
     "execution_count": 5,
     "metadata": {},
     "output_type": "execute_result"
    }
   ],
   "source": [
    "data = df[['label', 'full_text']].copy()\n",
    "data.head()"
   ]
  },
  {
   "cell_type": "code",
   "execution_count": 6,
   "metadata": {},
   "outputs": [
    {
     "data": {
      "text/plain": [
       "(2601, 8714)"
      ]
     },
     "execution_count": 6,
     "metadata": {},
     "output_type": "execute_result"
    }
   ],
   "source": [
    "# preparing the text data\n",
    "from sklearn.feature_extraction.text import CountVectorizer\n",
    "vectorizer = CountVectorizer(stop_words = stop_words)\n",
    "corpus = data['full_text'].iloc[:].tolist()\n",
    "X = vectorizer.fit_transform(corpus)\n",
    "X.shape"
   ]
  },
  {
   "cell_type": "code",
   "execution_count": 7,
   "metadata": {},
   "outputs": [
    {
     "data": {
      "text/plain": [
       "0     both\n",
       "1    obama\n",
       "2    obama\n",
       "3     both\n",
       "4     both\n",
       "Name: label, dtype: object"
      ]
     },
     "execution_count": 7,
     "metadata": {},
     "output_type": "execute_result"
    }
   ],
   "source": [
    "Y = data['label']\n",
    "Y.head()"
   ]
  },
  {
   "cell_type": "code",
   "execution_count": 8,
   "metadata": {},
   "outputs": [],
   "source": [
    "from sklearn.model_selection import train_test_split\n",
    "xTrain, xTest, yTrain, yTest = train_test_split(X, Y, test_size = 0.2, random_state = 0)"
   ]
  },
  {
   "cell_type": "code",
   "execution_count": 9,
   "metadata": {},
   "outputs": [],
   "source": [
    "from sklearn.naive_bayes import MultinomialNB\n",
    "clf = MultinomialNB().fit(xTrain, yTrain)"
   ]
  },
  {
   "cell_type": "code",
   "execution_count": 10,
   "metadata": {},
   "outputs": [],
   "source": [
    "predicted = clf.predict(xTest)"
   ]
  },
  {
   "cell_type": "code",
   "execution_count": 11,
   "metadata": {},
   "outputs": [
    {
     "data": {
      "text/plain": [
       "0.8637236084452975"
      ]
     },
     "execution_count": 11,
     "metadata": {},
     "output_type": "execute_result"
    }
   ],
   "source": [
    "np.mean(predicted == yTest)"
   ]
  },
  {
   "cell_type": "code",
   "execution_count": 12,
   "metadata": {},
   "outputs": [
    {
     "data": {
      "text/plain": [
       "array([[ 27,   1,  17],\n",
       "       [  3,  80,  17],\n",
       "       [ 16,  17, 343]])"
      ]
     },
     "execution_count": 12,
     "metadata": {},
     "output_type": "execute_result"
    }
   ],
   "source": [
    "from sklearn.metrics import confusion_matrix\n",
    "confusion_matrix(yTest, predicted)"
   ]
  },
  {
   "cell_type": "code",
   "execution_count": 16,
   "metadata": {},
   "outputs": [
    {
     "data": {
      "text/plain": [
       "Predicted  both  obama  trump  __all__\n",
       "Actual                                \n",
       "both          5     11     29       45\n",
       "obama         6     25     69      100\n",
       "trump        36     54    286      376\n",
       "__all__      47     90    384      521"
      ]
     },
     "execution_count": 16,
     "metadata": {},
     "output_type": "execute_result"
    }
   ],
   "source": [
    "from pandas_ml import ConfusionMatrix\n",
    "import matplotlib.pyplot as plt\n",
    "\n",
    "cm = ConfusionMatrix(yTest, predicted)\n",
    "cm"
   ]
  },
  {
   "cell_type": "code",
   "execution_count": 17,
   "metadata": {},
   "outputs": [
    {
     "data": {
      "text/plain": [
       "<matplotlib.axes._subplots.AxesSubplot at 0x1a23540a90>"
      ]
     },
     "execution_count": 17,
     "metadata": {},
     "output_type": "execute_result"
    },
    {
     "data": {
      "image/png": "[encoded data removed]",
      "text/plain": [
       "<Figure size 648x576 with 2 Axes>"
      ]
     },
     "metadata": {
      "needs_background": "light"
     },
     "output_type": "display_data"
    }
   ],
   "source": [
    "cm.plot()"
   ]
  },
  {
   "cell_type": "code",
   "execution_count": null,
   "metadata": {},
   "outputs": [],
   "source": []
  }
 ],
 "metadata": {
  "kernelspec": {
   "display_name": "Python 3",
   "language": "python",
   "name": "python3"
  },
  "language_info": {
   "codemirror_mode": {
    "name": "ipython",
    "version": 3
   },
   "file_extension": ".py",
   "mimetype": "text/x-python",
   "name": "python",
   "nbconvert_exporter": "python",
   "pygments_lexer": "ipython3",
   "version": "3.7.1"
  }
 },
 "nbformat": 4,
 "nbformat_minor": 2
}
